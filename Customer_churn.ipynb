{
  "cells": [
    {
      "cell_type": "markdown",
      "metadata": {
        "id": "7wzpW8RHLCL6"
      },
      "source": [
        "# Getting Started"
      ]
    },
    {
      "cell_type": "markdown",
      "metadata": {
        "id": "2GVJY4anLMu6"
      },
      "source": [
        "## Task 1: Setup Google Cloud Environment"
      ]
    },
    {
      "cell_type": "code",
      "execution_count": 40,
      "metadata": {
        "id": "x9KwNtQIK4Rn",
        "vscode": {
          "languageId": "ruby"
        }
      },
      "outputs": [],
      "source": [
        "import os\n",
        "from dotenv import load_dotenv\n",
        "\n",
        "# Load environment variables from .env file\n",
        "load_dotenv()\n",
        "\n",
        "# Set the environment variable\n",
        "GOOGLE_APPLICATION_CREDENTIALS = os.getenv('GOOGLE_APPLICATION_CREDENTIALS')\n",
        "# Set the environment variable to the path of your account.json file\n",
        "os.environ['GOOGLE_APPLICATION_CREDENTIALS'] = 'account.json'\n",
        "PROJECT_ID = os.getenv('PROJECT_ID')\n",
        "REGION = os.getenv('REGION')\n",
        "BUCKET = os.getenv('BUCKET')"
      ]
    },
    {
      "cell_type": "code",
      "execution_count": 41,
      "metadata": {
        "vscode": {
          "languageId": "ruby"
        }
      },
      "outputs": [
        {
          "name": "stdout",
          "output_type": "stream",
          "text": [
            "gs://customer_churn_dataset_staging\n"
          ]
        }
      ],
      "source": [
        "print(BUCKET)"
      ]
    },
    {
      "cell_type": "markdown",
      "metadata": {
        "id": "_Xms0N9VLYTi"
      },
      "source": [
        "## Task 2: Import Libraries"
      ]
    },
    {
      "cell_type": "code",
      "execution_count": 3,
      "metadata": {
        "id": "ZZ1Pued2LeY3"
      },
      "outputs": [
        {
          "name": "stdout",
          "output_type": "stream",
          "text": [
            "Intel MKL WARNING: Support of Intel(R) Streaming SIMD Extensions 4.2 (Intel(R) SSE4.2) enabled only processors has been deprecated. Intel oneAPI Math Kernel Library 2025.0 will require Intel(R) Advanced Vector Extensions (Intel(R) AVX) instructions.\n",
            "Intel MKL WARNING: Support of Intel(R) Streaming SIMD Extensions 4.2 (Intel(R) SSE4.2) enabled only processors has been deprecated. Intel oneAPI Math Kernel Library 2025.0 will require Intel(R) Advanced Vector Extensions (Intel(R) AVX) instructions.\n"
          ]
        }
      ],
      "source": [
        "import pandas as pd\n",
        "import seaborn as sns\n",
        "from google.cloud import aiplatform\n",
        "from google.cloud import storage\n",
        "import io\n",
        "import os\n",
        "\n",
        "import matplotlib.pyplot as plt"
      ]
    },
    {
      "cell_type": "markdown",
      "metadata": {
        "id": "Ti5vNF0bLgbV"
      },
      "source": [
        "# Understand the Data"
      ]
    },
    {
      "cell_type": "markdown",
      "metadata": {
        "id": "9gZDCF0FLjW2"
      },
      "source": [
        "## Task 3: Load and Analyze the Dataset"
      ]
    },
    {
      "cell_type": "code",
      "execution_count": 13,
      "metadata": {
        "id": "u9L3Q30dLsZR"
      },
      "outputs": [],
      "source": [
        "# Load the dataset into a pandas DataFrame.\n",
        "df = pd.read_csv('customer_churn_dataset.csv')"
      ]
    },
    {
      "cell_type": "code",
      "execution_count": 5,
      "metadata": {},
      "outputs": [
        {
          "name": "stdout",
          "output_type": "stream",
          "text": [
            "<class 'pandas.core.frame.DataFrame'>\n",
            "RangeIndex: 440833 entries, 0 to 440832\n",
            "Data columns (total 12 columns):\n",
            " #   Column             Non-Null Count   Dtype  \n",
            "---  ------             --------------   -----  \n",
            " 0   CustomerID         440832 non-null  float64\n",
            " 1   Age                440832 non-null  float64\n",
            " 2   Gender             440832 non-null  object \n",
            " 3   Tenure             440832 non-null  float64\n",
            " 4   Usage Frequency    440832 non-null  float64\n",
            " 5   Support Calls      440832 non-null  float64\n",
            " 6   Payment Delay      440832 non-null  float64\n",
            " 7   Subscription Type  440832 non-null  object \n",
            " 8   Contract Length    440832 non-null  object \n",
            " 9   Total Spend        440832 non-null  float64\n",
            " 10  Last Interaction   440832 non-null  float64\n",
            " 11  Churn              440832 non-null  float64\n",
            "dtypes: float64(9), object(3)\n",
            "memory usage: 40.4+ MB\n"
          ]
        }
      ],
      "source": [
        "# Display basic information about the features of the dataset.\n",
        "df.info()"
      ]
    },
    {
      "cell_type": "code",
      "execution_count": 6,
      "metadata": {},
      "outputs": [
        {
          "data": {
            "text/html": [
              "<div>\n",
              "<style scoped>\n",
              "    .dataframe tbody tr th:only-of-type {\n",
              "        vertical-align: middle;\n",
              "    }\n",
              "\n",
              "    .dataframe tbody tr th {\n",
              "        vertical-align: top;\n",
              "    }\n",
              "\n",
              "    .dataframe thead th {\n",
              "        text-align: right;\n",
              "    }\n",
              "</style>\n",
              "<table border=\"1\" class=\"dataframe\">\n",
              "  <thead>\n",
              "    <tr style=\"text-align: right;\">\n",
              "      <th></th>\n",
              "      <th>CustomerID</th>\n",
              "      <th>Age</th>\n",
              "      <th>Gender</th>\n",
              "      <th>Tenure</th>\n",
              "      <th>Usage Frequency</th>\n",
              "      <th>Support Calls</th>\n",
              "      <th>Payment Delay</th>\n",
              "      <th>Subscription Type</th>\n",
              "      <th>Contract Length</th>\n",
              "      <th>Total Spend</th>\n",
              "      <th>Last Interaction</th>\n",
              "      <th>Churn</th>\n",
              "    </tr>\n",
              "  </thead>\n",
              "  <tbody>\n",
              "    <tr>\n",
              "      <th>0</th>\n",
              "      <td>2.0</td>\n",
              "      <td>30.0</td>\n",
              "      <td>Female</td>\n",
              "      <td>39.0</td>\n",
              "      <td>14.0</td>\n",
              "      <td>5.0</td>\n",
              "      <td>18.0</td>\n",
              "      <td>Standard</td>\n",
              "      <td>Annual</td>\n",
              "      <td>932.0</td>\n",
              "      <td>17.0</td>\n",
              "      <td>1.0</td>\n",
              "    </tr>\n",
              "    <tr>\n",
              "      <th>1</th>\n",
              "      <td>3.0</td>\n",
              "      <td>65.0</td>\n",
              "      <td>Female</td>\n",
              "      <td>49.0</td>\n",
              "      <td>1.0</td>\n",
              "      <td>10.0</td>\n",
              "      <td>8.0</td>\n",
              "      <td>Basic</td>\n",
              "      <td>Monthly</td>\n",
              "      <td>557.0</td>\n",
              "      <td>6.0</td>\n",
              "      <td>1.0</td>\n",
              "    </tr>\n",
              "    <tr>\n",
              "      <th>2</th>\n",
              "      <td>4.0</td>\n",
              "      <td>55.0</td>\n",
              "      <td>Female</td>\n",
              "      <td>14.0</td>\n",
              "      <td>4.0</td>\n",
              "      <td>6.0</td>\n",
              "      <td>18.0</td>\n",
              "      <td>Basic</td>\n",
              "      <td>Quarterly</td>\n",
              "      <td>185.0</td>\n",
              "      <td>3.0</td>\n",
              "      <td>1.0</td>\n",
              "    </tr>\n",
              "    <tr>\n",
              "      <th>3</th>\n",
              "      <td>5.0</td>\n",
              "      <td>58.0</td>\n",
              "      <td>Male</td>\n",
              "      <td>38.0</td>\n",
              "      <td>21.0</td>\n",
              "      <td>7.0</td>\n",
              "      <td>7.0</td>\n",
              "      <td>Standard</td>\n",
              "      <td>Monthly</td>\n",
              "      <td>396.0</td>\n",
              "      <td>29.0</td>\n",
              "      <td>1.0</td>\n",
              "    </tr>\n",
              "    <tr>\n",
              "      <th>4</th>\n",
              "      <td>6.0</td>\n",
              "      <td>23.0</td>\n",
              "      <td>Male</td>\n",
              "      <td>32.0</td>\n",
              "      <td>20.0</td>\n",
              "      <td>5.0</td>\n",
              "      <td>8.0</td>\n",
              "      <td>Basic</td>\n",
              "      <td>Monthly</td>\n",
              "      <td>617.0</td>\n",
              "      <td>20.0</td>\n",
              "      <td>1.0</td>\n",
              "    </tr>\n",
              "  </tbody>\n",
              "</table>\n",
              "</div>"
            ],
            "text/plain": [
              "   CustomerID   Age  Gender  Tenure  Usage Frequency  Support Calls  \\\n",
              "0         2.0  30.0  Female    39.0             14.0            5.0   \n",
              "1         3.0  65.0  Female    49.0              1.0           10.0   \n",
              "2         4.0  55.0  Female    14.0              4.0            6.0   \n",
              "3         5.0  58.0    Male    38.0             21.0            7.0   \n",
              "4         6.0  23.0    Male    32.0             20.0            5.0   \n",
              "\n",
              "   Payment Delay Subscription Type Contract Length  Total Spend  \\\n",
              "0           18.0          Standard          Annual        932.0   \n",
              "1            8.0             Basic         Monthly        557.0   \n",
              "2           18.0             Basic       Quarterly        185.0   \n",
              "3            7.0          Standard         Monthly        396.0   \n",
              "4            8.0             Basic         Monthly        617.0   \n",
              "\n",
              "   Last Interaction  Churn  \n",
              "0              17.0    1.0  \n",
              "1               6.0    1.0  \n",
              "2               3.0    1.0  \n",
              "3              29.0    1.0  \n",
              "4              20.0    1.0  "
            ]
          },
          "execution_count": 6,
          "metadata": {},
          "output_type": "execute_result"
        }
      ],
      "source": [
        "# Display the first few rows of the dataset.\n",
        "df.head(5)"
      ]
    },
    {
      "cell_type": "markdown",
      "metadata": {
        "id": "UzjYt4qpLt1q"
      },
      "source": [
        "## Task 4: Perform Basic Statistical Analysis"
      ]
    },
    {
      "cell_type": "code",
      "execution_count": 7,
      "metadata": {
        "id": "S4PaK1riL2lz"
      },
      "outputs": [
        {
          "data": {
            "image/png": "[encoded data removed]",
            "text/plain": [
              "<Figure size 640x480 with 1 Axes>"
            ]
          },
          "metadata": {},
          "output_type": "display_data"
        }
      ],
      "source": [
        "# Histogram of Age: The plot will help you understand the age distribution of customers in the dataset.\n",
        "\n",
        "import matplotlib.pyplot as plt\n",
        "\n",
        "plt.hist(df['Age'], bins=10)\n",
        "plt.xlabel('Age')\n",
        "plt.ylabel('Frequency')\n",
        "plt.title('Age Distribution')\n",
        "plt.show()\n"
      ]
    },
    {
      "cell_type": "code",
      "execution_count": 8,
      "metadata": {},
      "outputs": [
        {
          "data": {
            "image/png": "[encoded data removed]",
            "text/plain": [
              "<Figure size 640x480 with 1 Axes>"
            ]
          },
          "metadata": {},
          "output_type": "display_data"
        }
      ],
      "source": [
        "import matplotlib.pyplot as plt\n",
        "\n",
        "plt.boxplot(df['Total Spend'])\n",
        "plt.xlabel('Total Spend')\n",
        "plt.ylabel('Amount')\n",
        "plt.title('Boxplot of Total Spend')\n",
        "plt.show()\n"
      ]
    },
    {
      "cell_type": "code",
      "execution_count": 9,
      "metadata": {},
      "outputs": [
        {
          "data": {
            "image/png": "[encoded data removed]",
            "text/plain": [
              "<Figure size 800x600 with 1 Axes>"
            ]
          },
          "metadata": {},
          "output_type": "display_data"
        }
      ],
      "source": [
        "# Countplot of Subscription Type: This will help you understand the distribution of different subscription types among the customers.\n",
        "import matplotlib.pyplot as plt\n",
        "\n",
        "plt.figure(figsize=(8, 6))\n",
        "sns.countplot(data=df, x='Subscription Type')\n",
        "plt.xlabel('Subscription Type')\n",
        "plt.ylabel('Count')\n",
        "plt.title('Distribution of Subscription Types')\n",
        "plt.show()"
      ]
    },
    {
      "cell_type": "markdown",
      "metadata": {},
      "source": [
        "# Data Preprocessing"
      ]
    },
    {
      "cell_type": "markdown",
      "metadata": {},
      "source": [
        "## Task 5: Clean and Preprocess the Data"
      ]
    },
    {
      "cell_type": "code",
      "execution_count": 14,
      "metadata": {},
      "outputs": [],
      "source": [
        "# Removing rows with NaN values\n",
        "df.dropna(inplace=True)"
      ]
    },
    {
      "cell_type": "code",
      "execution_count": 15,
      "metadata": {},
      "outputs": [],
      "source": [
        "# Dropping unnecessary columns for model training\n",
        "df.drop(['CustomerID'], axis=1, inplace=True)"
      ]
    },
    {
      "cell_type": "code",
      "execution_count": 16,
      "metadata": {},
      "outputs": [],
      "source": [
        "# Removing spaces from feature names\n",
        "df.columns = df.columns.str.replace(' ', '')"
      ]
    },
    {
      "cell_type": "code",
      "execution_count": 43,
      "metadata": {},
      "outputs": [
        {
          "name": "stdout",
          "output_type": "stream",
          "text": [
            "Preprocessed dataset uploaded to GCS bucket: customer_churn_dataset_staging/data/customer_churn_preprocessed.csv\n"
          ]
        }
      ],
      "source": [
        "# Define the file path for the preprocessed dataset\n",
        "file_path = 'data/customer_churn_preprocessed.csv'\n",
        "\n",
        "# Save the dataframe to a CSV file\n",
        "# df.to_csv(file_path, index=False)\n",
        "    \n",
        "# # Create a storage client\n",
        "storage_client = storage.Client()\n",
        "\n",
        "# # Define the GCS bucket name\n",
        "bucket_name = 'customer_churn_dataset_staging'\n",
        "\n",
        "# # # Define the destination blob name\n",
        "blob_name = 'data/customer_churn_preprocessed.csv'\n",
        "\n",
        "# # # Upload the file to GCS\n",
        "bucket = storage_client.bucket(bucket_name)\n",
        "blob = bucket.blob(blob_name)\n",
        "blob.upload_from_filename(file_path)\n",
        "\n",
        "print(f\"Preprocessed dataset uploaded to GCS bucket: {bucket_name}/{blob_name}\")\n"
      ]
    },
    {
      "cell_type": "code",
      "execution_count": 44,
      "metadata": {},
      "outputs": [
        {
          "name": "stdout",
          "output_type": "stream",
          "text": [
            "Preprocessed dataset uploaded to GCS bucket: customer_churn_dataset_staging/data/customer_churn_preprocessed.csv\n"
          ]
        }
      ],
      "source": [
        "from google.cloud import storage\n",
        "\n",
        "# Define a new method named upload_dataframe_to_gcs(). In this method, store the preprocessed dataset in the GCS bucket created in Task 1 as the data/customer_churn_preprocessed.csv file.\n",
        "def upload_dataframe_to_gcs(blob_name, bucket_name):\n",
        "    # Save the dataframe to a CSV file\n",
        "    df.to_csv(file_path, index=False)\n",
        "        \n",
        "    # Create a storage client\n",
        "    storage_client = storage.Client()\n",
        "    \n",
        "    # Upload the file to GCS\n",
        "    bucket = storage_client.bucket(bucket_name)\n",
        "    blob = bucket.blob(blob_name)\n",
        "    blob.upload_from_filename(blob_name)\n",
        "    \n",
        "    print(f\"Preprocessed dataset uploaded to GCS bucket: {bucket_name}/{blob_name}\")\n",
        "\n",
        "bucket_name = 'customer_churn_dataset_staging'\n",
        "file_path = 'data/customer_churn_preprocessed.csv'\n",
        "upload_dataframe_to_gcs(file_path, bucket_name)"
      ]
    },
    {
      "cell_type": "markdown",
      "metadata": {},
      "source": [
        "## Task 6: Define Column Transformations"
      ]
    },
    {
      "cell_type": "code",
      "execution_count": 45,
      "metadata": {},
      "outputs": [
        {
          "name": "stdout",
          "output_type": "stream",
          "text": [
            "<class 'pandas.core.frame.DataFrame'>\n",
            "Index: 440832 entries, 0 to 440832\n",
            "Data columns (total 11 columns):\n",
            " #   Column            Non-Null Count   Dtype  \n",
            "---  ------            --------------   -----  \n",
            " 0   Age               440832 non-null  float64\n",
            " 1   Gender            440832 non-null  object \n",
            " 2   Tenure            440832 non-null  float64\n",
            " 3   UsageFrequency    440832 non-null  float64\n",
            " 4   SupportCalls      440832 non-null  float64\n",
            " 5   PaymentDelay      440832 non-null  float64\n",
            " 6   SubscriptionType  440832 non-null  object \n",
            " 7   ContractLength    440832 non-null  object \n",
            " 8   TotalSpend        440832 non-null  float64\n",
            " 9   LastInteraction   440832 non-null  float64\n",
            " 10  Churn             440832 non-null  float64\n",
            "dtypes: float64(8), object(3)\n",
            "memory usage: 40.4+ MB\n"
          ]
        }
      ],
      "source": [
        "df.info()"
      ]
    },
    {
      "cell_type": "code",
      "execution_count": 56,
      "metadata": {
        "vscode": {
          "languageId": "javascript"
        }
      },
      "outputs": [],
      "source": [
        "column_transformations = [\n",
        "    {\"numeric\": {\"column_name\": \"Age\"}},\n",
        "    {\"categorical\": {\"column_name\": \"Gender\"}},\n",
        "    {\"numeric\": {\"column_name\": \"Tenure\"}},\n",
        "    {\"numeric\": {\"column_name\": \"UsageFrequency\"}},\n",
        "    {\"numeric\": {\"column_name\": \"SupportCalls\"}},\n",
        "    {\"numeric\": {\"column_name\": \"PaymentDelay\"}},\n",
        "    {\"categorical\": {\"column_name\": \"SubscriptionType\"}},\n",
        "    {\"categorical\": {\"column_name\": \"ContractLength\"}},\n",
        "    {\"numeric\": {\"column_name\": \"TotalSpend\"}},\n",
        "    {\"numeric\": {\"column_name\": \"LastInteraction\"}}\n",
        "]"
      ]
    },
    {
      "cell_type": "code",
      "execution_count": null,
      "metadata": {},
      "outputs": [],
      "source": []
    },
    {
      "cell_type": "markdown",
      "metadata": {},
      "source": [
        "# Build and Deploy the Vertex AI AutoML Model "
      ]
    },
    {
      "cell_type": "markdown",
      "metadata": {},
      "source": [
        "## Task 7: Prepare the Vertex AI Training Job"
      ]
    },
    {
      "cell_type": "code",
      "execution_count": 55,
      "metadata": {},
      "outputs": [
        {
          "name": "stdout",
          "output_type": "stream",
          "text": [
            "Creating TabularDataset\n",
            "Create TabularDataset backing LRO: projects/692127285617/locations/us-central1/datasets/3408361801291661312/operations/349972523896537088\n",
            "TabularDataset created. Resource name: projects/692127285617/locations/us-central1/datasets/3408361801291661312\n",
            "To use this TabularDataset in another session:\n",
            "ds = aiplatform.TabularDataset('projects/692127285617/locations/us-central1/datasets/3408361801291661312')\n"
          ]
        }
      ],
      "source": [
        "# Initialize the aiplatform SDK to use it with your PROJECT_ID and REGION.\n",
        "# my_dataset = aiplatform.TextDataset.create(\n",
        "#     display_name=\"customer_churn\")\n",
        "aiplatform.init(project='dolu-sandbox-408209', location='us-central1')\n",
        "\n",
        "ds = aiplatform.TabularDataset.create(\n",
        "    display_name=\"customer_churn\", gcs_source=['gs://customer_churn_dataset_staging/data/customer_churn_preprocessed.csv'])"
      ]
    },
    {
      "cell_type": "markdown",
      "metadata": {},
      "source": [
        "## Task 8: Building the AutoML Model"
      ]
    },
    {
      "cell_type": "code",
      "execution_count": 60,
      "metadata": {},
      "outputs": [
        {
          "name": "stdout",
          "output_type": "stream",
          "text": [
            "View Training:\n",
            "https://console.cloud.google.com/ai/platform/locations/us-central1/training/5834950875365244928?project=692127285617\n",
            "AutoMLTabularTrainingJob projects/692127285617/locations/us-central1/trainingPipelines/5834950875365244928 current state:\n",
            "PipelineState.PIPELINE_STATE_PENDING\n",
            "AutoMLTabularTrainingJob projects/692127285617/locations/us-central1/trainingPipelines/5834950875365244928 current state:\n",
            "PipelineState.PIPELINE_STATE_PENDING\n",
            "AutoMLTabularTrainingJob projects/692127285617/locations/us-central1/trainingPipelines/5834950875365244928 current state:\n",
            "PipelineState.PIPELINE_STATE_RUNNING\n",
            "AutoMLTabularTrainingJob projects/692127285617/locations/us-central1/trainingPipelines/5834950875365244928 current state:\n",
            "PipelineState.PIPELINE_STATE_RUNNING\n",
            "AutoMLTabularTrainingJob projects/692127285617/locations/us-central1/trainingPipelines/5834950875365244928 current state:\n",
            "PipelineState.PIPELINE_STATE_RUNNING\n",
            "AutoMLTabularTrainingJob projects/692127285617/locations/us-central1/trainingPipelines/5834950875365244928 current state:\n",
            "PipelineState.PIPELINE_STATE_RUNNING\n",
            "AutoMLTabularTrainingJob projects/692127285617/locations/us-central1/trainingPipelines/5834950875365244928 current state:\n",
            "PipelineState.PIPELINE_STATE_RUNNING\n",
            "AutoMLTabularTrainingJob projects/692127285617/locations/us-central1/trainingPipelines/5834950875365244928 current state:\n",
            "PipelineState.PIPELINE_STATE_RUNNING\n",
            "AutoMLTabularTrainingJob projects/692127285617/locations/us-central1/trainingPipelines/5834950875365244928 current state:\n",
            "PipelineState.PIPELINE_STATE_RUNNING\n",
            "AutoMLTabularTrainingJob projects/692127285617/locations/us-central1/trainingPipelines/5834950875365244928 current state:\n",
            "PipelineState.PIPELINE_STATE_RUNNING\n",
            "AutoMLTabularTrainingJob projects/692127285617/locations/us-central1/trainingPipelines/5834950875365244928 current state:\n",
            "PipelineState.PIPELINE_STATE_RUNNING\n",
            "AutoMLTabularTrainingJob projects/692127285617/locations/us-central1/trainingPipelines/5834950875365244928 current state:\n",
            "PipelineState.PIPELINE_STATE_RUNNING\n"
          ]
        }
      ],
      "source": [
        "\n",
        "job = aiplatform.AutoMLTabularTrainingJob(\n",
        "    display_name=\"train-churn-automl-1.0\",\n",
        "    optimization_prediction_type=\"classification\",\n",
        "    column_transformations=column_transformations,\n",
        ")\n",
        "model = job.run(\n",
        "    dataset=ds,\n",
        "    target_column=\"Churn\",\n",
        "    training_fraction_split=0.8,\n",
        "    validation_fraction_split=0.1,\n",
        "    test_fraction_split=0.1,\n",
        "    model_display_name=\"adopted-prediction-model\",\n",
        "    disable_early_stopping=False,\n",
        "sync=False,)"
      ]
    },
    {
      "cell_type": "code",
      "execution_count": null,
      "metadata": {},
      "outputs": [],
      "source": []
    },
    {
      "cell_type": "markdown",
      "metadata": {},
      "source": [
        "# Deploy and Predict"
      ]
    },
    {
      "cell_type": "markdown",
      "metadata": {},
      "source": [
        "## Task 9: Load and Evaluate the Model"
      ]
    },
    {
      "cell_type": "code",
      "execution_count": null,
      "metadata": {},
      "outputs": [],
      "source": [
        "model = aiplatform.Model.list()[0]\n",
        "print(f\"Trained model resource name: {model.resource_name}\")\n"
      ]
    },
    {
      "cell_type": "code",
      "execution_count": null,
      "metadata": {},
      "outputs": [],
      "source": [
        "model_evaluations = model.list_model_evaluations()\n",
        "# Print the evaluation metrics\n",
        "for evaluation in model_evaluations:\n",
        "    evaluation = evaluation.to_dict()\n",
        "    print(\"Model's evaluation metrics from Training:\\n\")\n",
        "    metrics = evaluation[\"metrics\"]\n",
        "    for metric in metrics.keys():\n",
        "        print(f\"metric: {metric}, value: {metrics[metric]}\\n\")"
      ]
    },
    {
      "cell_type": "markdown",
      "metadata": {},
      "source": [
        "## Task 10: Deploy the Classification Model"
      ]
    },
    {
      "cell_type": "code",
      "execution_count": null,
      "metadata": {},
      "outputs": [],
      "source": [
        "churnEndpointTest = aiplatform.Endpoint.create(\n",
        "    display_name='churnEndpointTest',\n",
        "    project=f\"{PROJECT_ID}\",\n",
        "    location=f\"{REGION}\",\n",
        "    endpoint_id='123456',\n",
        "    sync=False)"
      ]
    },
    {
      "cell_type": "code",
      "execution_count": null,
      "metadata": {},
      "outputs": [],
      "source": [
        "# Deploy the model to the endpoint\n",
        "model.deploy(endpoint=churnEndpointTest, machine_type=\"n1-standard-4\",\n",
        "    sync=False)"
      ]
    },
    {
      "cell_type": "markdown",
      "metadata": {},
      "source": [
        "## Task 11: Make Online Predictions"
      ]
    },
    {
      "cell_type": "code",
      "execution_count": null,
      "metadata": {},
      "outputs": [],
      "source": [
        "#Prepare the endpoint even after the session timeout\n",
        "endpoint = aiplatform.Endpoint(endpoint_name='churnEndpointTest')\n",
        "deployed_models = endpoint.list_models()\n",
        "if not deployed_models:\n",
        "  print(\"no models deployed yet\")\n",
        "else:\n",
        "    for deployed_model in deployed_models:\n",
        "      \n",
        "      if deployed_model.display_name == \"adopted-prediction-model\":\n",
        "        print (\"Model deployed, you can move to prediction phase\")"
      ]
    },
    {
      "cell_type": "code",
      "execution_count": null,
      "metadata": {},
      "outputs": [],
      "source": [
        "prediction = endpoint.predict({  \n",
        "  \"Age\": \"22\",\n",
        "  \"Gender\": \"Female\",\n",
        "  \"Tenure\": \"25\",\n",
        "  \"UsageFrequency\": \"14\",  \n",
        "  \"SupportCalls\": \"4\",\n",
        "  \"PaymentDelay\": \n",
        "  \"27\",\n",
        "  \"SubscriptionType\": \"Basic\",  \n",
        "  \"ContractLength\": \"Monthly\",  \n",
        "  \"TotalSpend\": \"598\",\n",
        "  \"LastInteraction\": \"9\",\n",
        "})\n",
        "prediction"
      ]
    },
    {
      "cell_type": "markdown",
      "metadata": {},
      "source": [
        "# Cleanup"
      ]
    },
    {
      "cell_type": "markdown",
      "metadata": {},
      "source": [
        "## Task 12: Clean up the Environnement"
      ]
    },
    {
      "cell_type": "code",
      "execution_count": null,
      "metadata": {},
      "outputs": [],
      "source": []
    },
    {
      "cell_type": "code",
      "execution_count": null,
      "metadata": {},
      "outputs": [],
      "source": []
    }
  ],
  "metadata": {
    "colab": {
      "provenance": []
    },
    "kernelspec": {
      "display_name": "Python 3",
      "language": "python",
      "name": "python3"
    },
    "language_info": {
      "codemirror_mode": {
        "name": "ipython",
        "version": 3
      },
      "file_extension": ".py",
      "mimetype": "text/x-python",
      "name": "python",
      "nbconvert_exporter": "python",
      "pygments_lexer": "ipython3",
      "version": "3.10.14"
    },
    "vscode": {
      "interpreter": {
        "hash": "31f2aee4e71d21fbe5cf8b01ff0e069b9275f58929596ceb00d14d90e3e16cd6"
      }
    }
  },
  "nbformat": 4,
  "nbformat_minor": 0
}
